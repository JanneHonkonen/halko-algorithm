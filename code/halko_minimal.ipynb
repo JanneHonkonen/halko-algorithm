{
  "cells": [
    {
      "cell_type": "code",
      "execution_count": null,
      "metadata": {},
      "outputs": [],
      "source": [
        "import torch\n",
        "\n",
        "class HalkoLayer(torch.nn.Module):\n",
        "    \"\"\"Minimal 3D tensor processing with dynamic routing.\"\"\"\n",
        "    def __init__(self, depth: int):\n",
        "        super().__init__()\n",
        "        self.depth = depth\n",
        "        self.micro_centers = torch.nn.ModuleList([\n",
        "            torch.nn.Linear(128, 128) for _ in range(depth)\n",
        "        ])\n",
        "        \n",
        "    def forward(self, x: torch.Tensor) -> torch.Tensor:\n",
        "        # x shape: [batch, depth, seq, features]\n",
        "        for d in range(self.depth):\n",
        "            x[:, d] = self.micro_centers[d](x[:, d])\n",
        "        return x\n",
        "\n",
        "# Example usage\n",
        "ha = HalkoLayer(depth=3)\n",
        "input = torch.randn(2, 3, 10, 128)  # [batch=2, depth=3, seq=10, features=128]\n",
        "output = ha(input)\n",
        "print(output.shape)  # torch.Size([2, 3, 10, 128])"
      ]
    }
  ],
  "metadata": {
    "kernelspec": {
      "display_name": "Python 3",
      "language": "python",
      "name": "python3"
    },
    "language_info": {
      "codemirror_mode": {
        "name": "ipython",
        "version": 3
      },
      "file_extension": ".py",
      "mimetype": "text/x-python",
      "name": "python",
      "nbconvert_exporter": "python",
      "pygments_lexer": "ipython3",
      "version": "3.10.12"
    }
  },
  "nbformat": 4,
  "nbformat_minor": 2
}
